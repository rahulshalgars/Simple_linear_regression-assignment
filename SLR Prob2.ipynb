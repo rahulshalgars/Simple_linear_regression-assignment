{
 "cells": [
  {
   "cell_type": "code",
   "execution_count": 1,
   "id": "e435cb64",
   "metadata": {},
   "outputs": [],
   "source": [
    "import numpy as np\n",
    "import pandas as pd\n",
    "from scipy import stats\n",
    "import matplotlib.pyplot as plt\n",
    "from sklearn.linear_model import LinearRegression\n",
    "import statsmodels.formula.api as smf\n",
    "from sklearn.metrics import r2_score\n",
    "import seaborn as sns"
   ]
  },
  {
   "cell_type": "code",
   "execution_count": 2,
   "id": "8d21fef4",
   "metadata": {},
   "outputs": [
    {
     "name": "stdout",
     "output_type": "stream",
     "text": [
      " Volume in drive C has no label.\n",
      " Volume Serial Number is ECD7-FC17\n",
      "\n",
      " Directory of C:\\Users\\Admin\\Desktop\\DS Assignments\\SLR\n",
      "\n",
      "25/01/2023  01:43    <DIR>          .\n",
      "25/01/2023  01:43    <DIR>          ..\n",
      "26/12/2022  05:51    <DIR>          .ipynb_checkpoints\n",
      "26/12/2022  05:36               218 delivery_time.csv\n",
      "26/12/2022  02:42               454 Salary_Data.csv\n",
      "26/12/2022  08:02           125,060 SLR Prob1.ipynb\n",
      "25/01/2023  01:43           118,297 SLR Prob2.ipynb\n",
      "               4 File(s)        244,029 bytes\n",
      "               3 Dir(s)  115,715,424,256 bytes free\n"
     ]
    }
   ],
   "source": [
    "ls"
   ]
  },
  {
   "cell_type": "code",
   "execution_count": 3,
   "id": "3a55eb82",
   "metadata": {},
   "outputs": [
    {
     "data": {
      "text/html": [
       "<div>\n",
       "<style scoped>\n",
       "    .dataframe tbody tr th:only-of-type {\n",
       "        vertical-align: middle;\n",
       "    }\n",
       "\n",
       "    .dataframe tbody tr th {\n",
       "        vertical-align: top;\n",
       "    }\n",
       "\n",
       "    .dataframe thead th {\n",
       "        text-align: right;\n",
       "    }\n",
       "</style>\n",
       "<table border=\"1\" class=\"dataframe\">\n",
       "  <thead>\n",
       "    <tr style=\"text-align: right;\">\n",
       "      <th></th>\n",
       "      <th>YearsExperience</th>\n",
       "      <th>Salary</th>\n",
       "    </tr>\n",
       "  </thead>\n",
       "  <tbody>\n",
       "    <tr>\n",
       "      <th>0</th>\n",
       "      <td>1.1</td>\n",
       "      <td>39343.0</td>\n",
       "    </tr>\n",
       "    <tr>\n",
       "      <th>1</th>\n",
       "      <td>1.3</td>\n",
       "      <td>46205.0</td>\n",
       "    </tr>\n",
       "    <tr>\n",
       "      <th>2</th>\n",
       "      <td>1.5</td>\n",
       "      <td>37731.0</td>\n",
       "    </tr>\n",
       "    <tr>\n",
       "      <th>3</th>\n",
       "      <td>2.0</td>\n",
       "      <td>43525.0</td>\n",
       "    </tr>\n",
       "    <tr>\n",
       "      <th>4</th>\n",
       "      <td>2.2</td>\n",
       "      <td>39891.0</td>\n",
       "    </tr>\n",
       "  </tbody>\n",
       "</table>\n",
       "</div>"
      ],
      "text/plain": [
       "   YearsExperience   Salary\n",
       "0              1.1  39343.0\n",
       "1              1.3  46205.0\n",
       "2              1.5  37731.0\n",
       "3              2.0  43525.0\n",
       "4              2.2  39891.0"
      ]
     },
     "execution_count": 3,
     "metadata": {},
     "output_type": "execute_result"
    }
   ],
   "source": [
    "SD=pd.read_csv(\"salary_data.csv\")\n",
    "SD.head()"
   ]
  },
  {
   "cell_type": "code",
   "execution_count": 4,
   "id": "dfcd6b3c",
   "metadata": {},
   "outputs": [],
   "source": [
    "#normalising data"
   ]
  },
  {
   "cell_type": "code",
   "execution_count": 5,
   "id": "d1b53dec",
   "metadata": {},
   "outputs": [
    {
     "data": {
      "text/html": [
       "<div>\n",
       "<style scoped>\n",
       "    .dataframe tbody tr th:only-of-type {\n",
       "        vertical-align: middle;\n",
       "    }\n",
       "\n",
       "    .dataframe tbody tr th {\n",
       "        vertical-align: top;\n",
       "    }\n",
       "\n",
       "    .dataframe thead th {\n",
       "        text-align: right;\n",
       "    }\n",
       "</style>\n",
       "<table border=\"1\" class=\"dataframe\">\n",
       "  <thead>\n",
       "    <tr style=\"text-align: right;\">\n",
       "      <th></th>\n",
       "      <th>YearsExperience</th>\n",
       "      <th>Salary</th>\n",
       "    </tr>\n",
       "  </thead>\n",
       "  <tbody>\n",
       "    <tr>\n",
       "      <th>0</th>\n",
       "      <td>0.104762</td>\n",
       "      <td>0.321453</td>\n",
       "    </tr>\n",
       "    <tr>\n",
       "      <th>1</th>\n",
       "      <td>0.123810</td>\n",
       "      <td>0.377520</td>\n",
       "    </tr>\n",
       "    <tr>\n",
       "      <th>2</th>\n",
       "      <td>0.142857</td>\n",
       "      <td>0.308282</td>\n",
       "    </tr>\n",
       "    <tr>\n",
       "      <th>3</th>\n",
       "      <td>0.190476</td>\n",
       "      <td>0.355623</td>\n",
       "    </tr>\n",
       "    <tr>\n",
       "      <th>4</th>\n",
       "      <td>0.209524</td>\n",
       "      <td>0.325931</td>\n",
       "    </tr>\n",
       "    <tr>\n",
       "      <th>5</th>\n",
       "      <td>0.276190</td>\n",
       "      <td>0.462795</td>\n",
       "    </tr>\n",
       "    <tr>\n",
       "      <th>6</th>\n",
       "      <td>0.285714</td>\n",
       "      <td>0.491458</td>\n",
       "    </tr>\n",
       "    <tr>\n",
       "      <th>7</th>\n",
       "      <td>0.304762</td>\n",
       "      <td>0.444845</td>\n",
       "    </tr>\n",
       "    <tr>\n",
       "      <th>8</th>\n",
       "      <td>0.304762</td>\n",
       "      <td>0.526550</td>\n",
       "    </tr>\n",
       "    <tr>\n",
       "      <th>9</th>\n",
       "      <td>0.352381</td>\n",
       "      <td>0.467265</td>\n",
       "    </tr>\n",
       "    <tr>\n",
       "      <th>10</th>\n",
       "      <td>0.371429</td>\n",
       "      <td>0.516525</td>\n",
       "    </tr>\n",
       "    <tr>\n",
       "      <th>11</th>\n",
       "      <td>0.380952</td>\n",
       "      <td>0.455867</td>\n",
       "    </tr>\n",
       "    <tr>\n",
       "      <th>12</th>\n",
       "      <td>0.380952</td>\n",
       "      <td>0.465369</td>\n",
       "    </tr>\n",
       "    <tr>\n",
       "      <th>13</th>\n",
       "      <td>0.390476</td>\n",
       "      <td>0.466382</td>\n",
       "    </tr>\n",
       "    <tr>\n",
       "      <th>14</th>\n",
       "      <td>0.428571</td>\n",
       "      <td>0.499310</td>\n",
       "    </tr>\n",
       "    <tr>\n",
       "      <th>15</th>\n",
       "      <td>0.466667</td>\n",
       "      <td>0.555090</td>\n",
       "    </tr>\n",
       "    <tr>\n",
       "      <th>16</th>\n",
       "      <td>0.485714</td>\n",
       "      <td>0.539492</td>\n",
       "    </tr>\n",
       "    <tr>\n",
       "      <th>17</th>\n",
       "      <td>0.504762</td>\n",
       "      <td>0.678873</td>\n",
       "    </tr>\n",
       "    <tr>\n",
       "      <th>18</th>\n",
       "      <td>0.561905</td>\n",
       "      <td>0.664779</td>\n",
       "    </tr>\n",
       "    <tr>\n",
       "      <th>19</th>\n",
       "      <td>0.571429</td>\n",
       "      <td>0.767540</td>\n",
       "    </tr>\n",
       "    <tr>\n",
       "      <th>20</th>\n",
       "      <td>0.647619</td>\n",
       "      <td>0.749549</td>\n",
       "    </tr>\n",
       "    <tr>\n",
       "      <th>21</th>\n",
       "      <td>0.676190</td>\n",
       "      <td>0.802943</td>\n",
       "    </tr>\n",
       "    <tr>\n",
       "      <th>22</th>\n",
       "      <td>0.752381</td>\n",
       "      <td>0.827692</td>\n",
       "    </tr>\n",
       "    <tr>\n",
       "      <th>23</th>\n",
       "      <td>0.780952</td>\n",
       "      <td>0.929905</td>\n",
       "    </tr>\n",
       "    <tr>\n",
       "      <th>24</th>\n",
       "      <td>0.828571</td>\n",
       "      <td>0.894110</td>\n",
       "    </tr>\n",
       "    <tr>\n",
       "      <th>25</th>\n",
       "      <td>0.857143</td>\n",
       "      <td>0.862661</td>\n",
       "    </tr>\n",
       "    <tr>\n",
       "      <th>26</th>\n",
       "      <td>0.904762</td>\n",
       "      <td>0.955699</td>\n",
       "    </tr>\n",
       "    <tr>\n",
       "      <th>27</th>\n",
       "      <td>0.914286</td>\n",
       "      <td>0.920288</td>\n",
       "    </tr>\n",
       "    <tr>\n",
       "      <th>28</th>\n",
       "      <td>0.980952</td>\n",
       "      <td>1.000000</td>\n",
       "    </tr>\n",
       "    <tr>\n",
       "      <th>29</th>\n",
       "      <td>1.000000</td>\n",
       "      <td>0.995759</td>\n",
       "    </tr>\n",
       "  </tbody>\n",
       "</table>\n",
       "</div>"
      ],
      "text/plain": [
       "    YearsExperience    Salary\n",
       "0          0.104762  0.321453\n",
       "1          0.123810  0.377520\n",
       "2          0.142857  0.308282\n",
       "3          0.190476  0.355623\n",
       "4          0.209524  0.325931\n",
       "5          0.276190  0.462795\n",
       "6          0.285714  0.491458\n",
       "7          0.304762  0.444845\n",
       "8          0.304762  0.526550\n",
       "9          0.352381  0.467265\n",
       "10         0.371429  0.516525\n",
       "11         0.380952  0.455867\n",
       "12         0.380952  0.465369\n",
       "13         0.390476  0.466382\n",
       "14         0.428571  0.499310\n",
       "15         0.466667  0.555090\n",
       "16         0.485714  0.539492\n",
       "17         0.504762  0.678873\n",
       "18         0.561905  0.664779\n",
       "19         0.571429  0.767540\n",
       "20         0.647619  0.749549\n",
       "21         0.676190  0.802943\n",
       "22         0.752381  0.827692\n",
       "23         0.780952  0.929905\n",
       "24         0.828571  0.894110\n",
       "25         0.857143  0.862661\n",
       "26         0.904762  0.955699\n",
       "27         0.914286  0.920288\n",
       "28         0.980952  1.000000\n",
       "29         1.000000  0.995759"
      ]
     },
     "execution_count": 5,
     "metadata": {},
     "output_type": "execute_result"
    }
   ],
   "source": [
    "# copy the data\n",
    "Normdata = SD.copy()\n",
    "\n",
    "# apply normalization techniques\n",
    "for column in Normdata.columns:\n",
    "    Normdata[column] = Normdata[column] / Normdata[column].abs().max() \t\n",
    "\n",
    "# view normalized data\n",
    "#print(Data1_min_max_scaled)\n",
    "#Data1_min_max_scaled\n",
    "Normdata\n"
   ]
  },
  {
   "cell_type": "code",
   "execution_count": 6,
   "id": "0fff071c",
   "metadata": {},
   "outputs": [
    {
     "data": {
      "text/plain": [
       "0     0.104762\n",
       "1     0.123810\n",
       "2     0.142857\n",
       "3     0.190476\n",
       "4     0.209524\n",
       "5     0.276190\n",
       "6     0.285714\n",
       "7     0.304762\n",
       "8     0.304762\n",
       "9     0.352381\n",
       "10    0.371429\n",
       "11    0.380952\n",
       "12    0.380952\n",
       "13    0.390476\n",
       "14    0.428571\n",
       "15    0.466667\n",
       "16    0.485714\n",
       "17    0.504762\n",
       "18    0.561905\n",
       "19    0.571429\n",
       "20    0.647619\n",
       "21    0.676190\n",
       "22    0.752381\n",
       "23    0.780952\n",
       "24    0.828571\n",
       "25    0.857143\n",
       "26    0.904762\n",
       "27    0.914286\n",
       "28    0.980952\n",
       "29    1.000000\n",
       "Name: YearsExperience, dtype: float64"
      ]
     },
     "execution_count": 6,
     "metadata": {},
     "output_type": "execute_result"
    }
   ],
   "source": [
    "x=Normdata.YearsExperience\n",
    "x"
   ]
  },
  {
   "cell_type": "code",
   "execution_count": 7,
   "id": "e778814d",
   "metadata": {},
   "outputs": [
    {
     "data": {
      "text/plain": [
       "0     0.321453\n",
       "1     0.377520\n",
       "2     0.308282\n",
       "3     0.355623\n",
       "4     0.325931\n",
       "5     0.462795\n",
       "6     0.491458\n",
       "7     0.444845\n",
       "8     0.526550\n",
       "9     0.467265\n",
       "10    0.516525\n",
       "11    0.455867\n",
       "12    0.465369\n",
       "13    0.466382\n",
       "14    0.499310\n",
       "15    0.555090\n",
       "16    0.539492\n",
       "17    0.678873\n",
       "18    0.664779\n",
       "19    0.767540\n",
       "20    0.749549\n",
       "21    0.802943\n",
       "22    0.827692\n",
       "23    0.929905\n",
       "24    0.894110\n",
       "25    0.862661\n",
       "26    0.955699\n",
       "27    0.920288\n",
       "28    1.000000\n",
       "29    0.995759\n",
       "Name: Salary, dtype: float64"
      ]
     },
     "execution_count": 7,
     "metadata": {},
     "output_type": "execute_result"
    }
   ],
   "source": [
    "y=Normdata.Salary\n",
    "y"
   ]
  },
  {
   "cell_type": "code",
   "execution_count": 10,
   "id": "a2244a0c",
   "metadata": {},
   "outputs": [
    {
     "data": {
      "image/png": "[encoded data removed]",
      "text/plain": [
       "<Figure size 432x288 with 1 Axes>"
      ]
     },
     "metadata": {
      "needs_background": "light"
     },
     "output_type": "display_data"
    }
   ],
   "source": [
    "#plt.subplot(1,2,1)\n",
    "plt.boxplot(Normdata.YearsExperience,vert=False)\n",
    "#plt.subplot(1,2,2)\n",
    "#plt.boxplot(Normdata.Salary)\n",
    "plt.show()\n",
    "# No outliers"
   ]
  },
  {
   "cell_type": "code",
   "execution_count": null,
   "id": "8d35e80c",
   "metadata": {},
   "outputs": [],
   "source": [
    "sns.regplot(x=Normdata['YearsExperience'],y=Normdata['Salary'])"
   ]
  },
  {
   "cell_type": "code",
   "execution_count": null,
   "id": "127ec230",
   "metadata": {},
   "outputs": [],
   "source": [
    "Normdata.info()"
   ]
  },
  {
   "cell_type": "code",
   "execution_count": null,
   "id": "a2861198",
   "metadata": {},
   "outputs": [],
   "source": [
    "model1=smf.ols(\"YearsExperience~Salary\",data=Normdata).fit()\n",
    "model1.summary()\n"
   ]
  },
  {
   "cell_type": "code",
   "execution_count": null,
   "id": "d40b4950",
   "metadata": {},
   "outputs": [],
   "source": [
    "model1.predict()"
   ]
  },
  {
   "cell_type": "code",
   "execution_count": null,
   "id": "f25121fb",
   "metadata": {},
   "outputs": [],
   "source": [
    "plt.figure(figsize=(12,7),facecolor=\"lightgreen\")\n",
    "plt.scatter(x,y,color=\"red\",label=\"actual\")\n",
    "plt.plot(model1.predict(),y,color=\"grey\")\n",
    "plt.scatter(model1.predict(),y,color=\"black\")\n",
    "plt.xlabel(\"YearsExperience\")\n",
    "plt.ylabel(\"Salary\")\n",
    "plt.show()"
   ]
  },
  {
   "cell_type": "code",
   "execution_count": null,
   "id": "a84c32d4",
   "metadata": {},
   "outputs": [],
   "source": [
    "model2=smf.ols(\"YearsExperience~np.log(Salary)\",data=Normdata).fit()\n",
    "\n"
   ]
  },
  {
   "cell_type": "code",
   "execution_count": null,
   "id": "3a516aaa",
   "metadata": {},
   "outputs": [],
   "source": [
    "model2.predict()"
   ]
  },
  {
   "cell_type": "code",
   "execution_count": null,
   "id": "ffc71ced",
   "metadata": {},
   "outputs": [],
   "source": [
    "model2.summary()"
   ]
  },
  {
   "cell_type": "code",
   "execution_count": null,
   "id": "29c841b2",
   "metadata": {},
   "outputs": [],
   "source": [
    "plt.figure(figsize=(12,7),facecolor=\"lightgreen\")\n",
    "plt.scatter(x,y,color=\"red\",label=\"actual\")\n",
    "plt.plot(model2.predict(),y,color=\"grey\")\n",
    "plt.scatter(model2.predict(),y,color=\"black\",label=\"predicted\")\n",
    "plt.xlabel(\"YearsExperience\")\n",
    "plt.ylabel(\"Salary\")\n",
    "plt.legend(loc=\"best\")\n",
    "plt.show()"
   ]
  },
  {
   "cell_type": "code",
   "execution_count": null,
   "id": "2379dbe7",
   "metadata": {},
   "outputs": [],
   "source": [
    "model3=smf.ols(\"Normdata.YearsExperience~np.exp(Normdata.Salary)\",data=Normdata).fit()\n",
    "model3.predict()"
   ]
  },
  {
   "cell_type": "code",
   "execution_count": null,
   "id": "b5bf798d",
   "metadata": {},
   "outputs": [],
   "source": [
    "model3.summary()"
   ]
  },
  {
   "cell_type": "code",
   "execution_count": null,
   "id": "000819e4",
   "metadata": {},
   "outputs": [],
   "source": [
    "plt.figure(figsize=(12,7),facecolor=\"lightgreen\")\n",
    "plt.scatter(x,y,color=\"red\",label=\"actual\")\n",
    "plt.plot(model3.predict(),y,color=\"grey\")\n",
    "plt.scatter(model3.predict(),y,color=\"black\",label=\"predicted\")\n",
    "plt.xlabel(\"YearsExperience\")\n",
    "plt.ylabel(\"Salary\")\n",
    "plt.legend(loc=\"best\")\n",
    "plt.show()"
   ]
  },
  {
   "cell_type": "code",
   "execution_count": null,
   "id": "23f8abec",
   "metadata": {},
   "outputs": [],
   "source": [
    "Normdata[\"YearsExperience_sq\"]=Normdata.YearsExperience**2\n",
    "Normdata[\"YearsExperience_sq\"]"
   ]
  },
  {
   "cell_type": "code",
   "execution_count": null,
   "id": "44b8a71b",
   "metadata": {},
   "outputs": [],
   "source": [
    "model4=smf.ols(\"Salary~YearsExperience+YearsExperience_sq\",data=Normdata).fit()\n",
    "model4.summary()"
   ]
  },
  {
   "cell_type": "code",
   "execution_count": null,
   "id": "956b24ce",
   "metadata": {},
   "outputs": [],
   "source": [
    "model4.predict()"
   ]
  },
  {
   "cell_type": "code",
   "execution_count": null,
   "id": "8c66dc38",
   "metadata": {},
   "outputs": [],
   "source": [
    "#Since the R-squared value of model1 is 0.957, which is greater when compared to all the other models so we consider model1 as the best one."
   ]
  }
 ],
 "metadata": {
  "kernelspec": {
   "display_name": "Python 3 (ipykernel)",
   "language": "python",
   "name": "python3"
  },
  "language_info": {
   "codemirror_mode": {
    "name": "ipython",
    "version": 3
   },
   "file_extension": ".py",
   "mimetype": "text/x-python",
   "name": "python",
   "nbconvert_exporter": "python",
   "pygments_lexer": "ipython3",
   "version": "3.9.12"
  }
 },
 "nbformat": 4,
 "nbformat_minor": 5
}
